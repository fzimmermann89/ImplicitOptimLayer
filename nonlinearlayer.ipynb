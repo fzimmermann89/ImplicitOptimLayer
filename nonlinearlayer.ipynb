{
 "cells": [
  {
   "cell_type": "code",
   "execution_count": 462,
   "id": "e705cfb1-6f24-4886-be07-6ae62ca886ab",
   "metadata": {},
   "outputs": [],
   "source": [
    "import torch\n",
    "from torchvision.datasets import CIFAR10\n",
    "import torchvision.transforms as T\n",
    "from typing import *\n",
    "from torch import Tensor, nn\n",
    "from tqdm.notebook import tqdm\n",
    "import copy\n",
    "\n",
    "path = \"/tmp/cifar\""
   ]
  },
  {
   "cell_type": "markdown",
   "id": "6914a765-cd09-462a-8a62-022acaf512a9",
   "metadata": {},
   "source": [
    "### A Toy Dataset\n",
    "\n",
    "We use just the R,G,B channels of some images as ground truth x values"
   ]
  },
  {
   "cell_type": "code",
   "execution_count": 426,
   "id": "32a9be02-67f0-4a2f-a2e4-c866cb3f177f",
   "metadata": {},
   "outputs": [],
   "source": [
    "class CifarDataset(torch.utils.data.Dataset):\n",
    "    def __init__(self, f: Callable, path: str = path, sigma: float = 0.05, train: bool = True):\n",
    "        \"\"\"\n",
    "        f: (Nonlinear) function to to applied on x labels to get y values.\n",
    "        path: Temp Dir to store images\n",
    "        sigma: Noise sigma, to be added on y\n",
    "        train: Use Cifar train split, otherwise use test split\n",
    "        \n",
    "        Will augment by Flips and Colorjitter during training. \n",
    "        x labels are normalized to mean=0, std=1 (-ish) before applying f.\n",
    "        \n",
    "        \"\"\"\n",
    "        if train:\n",
    "            transform = T.Compose((T.RandomVerticalFlip(), T.RandomHorizontalFlip(), T.ColorJitter(0.1, 0.1, 0.1, 0.1), T.ToTensor(), T.Normalize((0.48, 0.48, 0.44), (0.25, 0.25, 0.26))))\n",
    "        else:\n",
    "            transform = T.Compose((T.ToTensor(), T.Normalize((0.48, 0.48, 0.44), (0.25, 0.25, 0.26))))\n",
    "        self.ds = CIFAR10(path, download=True, transform=augment, train=train)\n",
    "        self.f = f\n",
    "        self.sigma = sigma\n",
    "        self.train = train\n",
    "\n",
    "    def __getitem__(self, idx):\n",
    "        x = self.ds[idx][0]\n",
    "        y = f(x)\n",
    "        if self.train:\n",
    "            noise=self.sigma*torch.randn_like(y)\n",
    "        else:\n",
    "            noise=(self.sigma*np.random.default_rng(idx).normal(size=y.shape)).astype(np.float32)\n",
    "        ynoisy = y+noise\n",
    "        return ynoisy, x\n",
    "    def __len__(self):\n",
    "        return len(self.ds)"
   ]
  },
  {
   "cell_type": "code",
   "execution_count": 488,
   "id": "a486d66e-12b2-447e-af12-28907af4982a",
   "metadata": {},
   "outputs": [],
   "source": [
    "## Our Nonlinear Function with 3 inputs and 5 outputs:\n",
    "#f(x1,x2,x3) = (5+x1)*sin(t*x2) + (1+x3)**2 \n",
    "\n",
    "def f(x):\n",
    "    t=torch.tensor((-3.,-1.5,0.,1.5,3.))\n",
    "    t=t.squeeze()[...,None,None].to(device=x.device)\n",
    "    x1,x2,x3=torch.split(x,1,-3)\n",
    "    y=(5+x1)*torch.sin(t*x2) + (1+x3)**2\n",
    "    return y"
   ]
  },
  {
   "cell_type": "code",
   "execution_count": 411,
   "id": "54a624b2-aeb2-4a80-a7fa-b5070f189ce2",
   "metadata": {},
   "outputs": [
    {
     "name": "stdout",
     "output_type": "stream",
     "text": [
      "Files already downloaded and verified\n"
     ]
    }
   ],
   "source": [
    "dataloader=torch.utils.data.DataLoader(CifarDataset(f),batch_size=32,shuffle=True,num_workers=4)"
   ]
  },
  {
   "cell_type": "markdown",
   "id": "e4bf5096-1921-41a4-8a86-51fd89976899",
   "metadata": {
    "tags": []
   },
   "source": [
    "## Validation Function\n",
    "\n",
    "We use a simple Validation that just returns the MSE for all three parameters over the test split of our dataset."
   ]
  },
  {
   "cell_type": "code",
   "execution_count": 427,
   "id": "66c22e2c-7d24-4d0d-9060-5eb2ba1ade3c",
   "metadata": {},
   "outputs": [],
   "source": [
    "def test(net,testDs):\n",
    "    dataloader=torch.utils.data.DataLoader(testDs,batch_size=32,shuffle=False,num_workers=4)\n",
    "    for i, batch in enumerate(dataloader):\n",
    "        (y_noise, x_gt) = (i.cuda() for i in batch)\n",
    "        x_pred=net(y_noise)\n",
    "        loss = nn.functional.mse_loss(x_pred,x_gt)\n",
    "        losses.append(torch.nn.functional.mse_loss(x_gt,x_pred,reduction='none').mean((0,-1,-2)).detach().cpu().numpy())\n",
    "    return np.array(losses).mean(0)"
   ]
  },
  {
   "cell_type": "code",
   "execution_count": 428,
   "id": "69b7846c-e989-4a13-934f-7802f352d8d9",
   "metadata": {},
   "outputs": [
    {
     "name": "stdout",
     "output_type": "stream",
     "text": [
      "Files already downloaded and verified\n"
     ]
    }
   ],
   "source": [
    "testDs=CifarDataset(f,train=False)\n"
   ]
  },
  {
   "cell_type": "markdown",
   "id": "0f134adc-9be6-47ed-a032-2fcacd4c5dbf",
   "metadata": {},
   "source": [
    "## A Simple Network"
   ]
  },
  {
   "cell_type": "code",
   "execution_count": 412,
   "id": "9f9fb5b7-b98a-46f9-8c5d-650115a2fc4c",
   "metadata": {},
   "outputs": [
    {
     "data": {
      "application/vnd.jupyter.widget-view+json": {
       "model_id": "ed7a850a536d4333b7499316dd11a52f",
       "version_major": 2,
       "version_minor": 0
      },
      "text/plain": [
       "  0%|          | 0/1563 [00:00<?, ?it/s]"
      ]
     },
     "metadata": {},
     "output_type": "display_data"
    }
   ],
   "source": [
    "net=nn.Sequential(\n",
    "    nn.Conv2d(5,128,3,padding=\"same\"), nn.ReLU(True),\n",
    "    nn.Conv2d(128,128,3,padding=\"same\"), nn.ReLU(True),\n",
    "    nn.Conv2d(128,128,3,padding=\"same\"), nn.ReLU(True),\n",
    "    nn.Conv2d(128,3,1,padding=\"same\"),\n",
    ").cuda()\n",
    "\n",
    "optim=torch.optim.Adam(net.parameters(),lr=1e-4)\n",
    "\n",
    "losses=[]\n",
    "for epoch in range(1):\n",
    "    pbar = tqdm(dataloader)\n",
    "    for i, batch in enumerate(pbar):\n",
    "        (y_noise, x_gt) = (i.cuda() for i in batch)\n",
    "        optim.zero_grad()\n",
    "        x_pred=net(y_noise)\n",
    "        loss = nn.functional.mse_loss(x_pred,x_gt)\n",
    "        loss.backward()\n",
    "        if i%10==0:\n",
    "            pbar.set_description(f\" loss: {loss.item():.5f}\")\n",
    "            losses.append(torch.nn.functional.mse_loss(x_gt,x_pred,reduction='none').mean((0,-1,-2)).detach().cpu().numpy())\n",
    "        optim.step()\n",
    "        "
   ]
  },
  {
   "cell_type": "code",
   "execution_count": 429,
   "id": "4ced84af-df16-4620-9ad8-9d5ecde4a588",
   "metadata": {},
   "outputs": [
    {
     "data": {
      "text/plain": [
       "[<matplotlib.lines.Line2D at 0x7f2832fee220>,\n",
       " <matplotlib.lines.Line2D at 0x7f2832fee160>,\n",
       " <matplotlib.lines.Line2D at 0x7f28330cd550>]"
      ]
     },
     "execution_count": 429,
     "metadata": {},
     "output_type": "execute_result"
    },
    {
     "data": {
      "image/png": "[encoded data removed]",
      "text/plain": [
       "<Figure size 432x288 with 1 Axes>"
      ]
     },
     "metadata": {
      "needs_background": "light"
     },
     "output_type": "display_data"
    }
   ],
   "source": [
    "import matplotlib.pyplot as plt\n",
    "plt.semilogy(losses)"
   ]
  },
  {
   "cell_type": "markdown",
   "id": "0ffea1c2-fe5e-4461-8e43-c86a572d0efa",
   "metadata": {},
   "source": [
    "## Just Using The Network"
   ]
  },
  {
   "cell_type": "code",
   "execution_count": 430,
   "id": "1c4f1fa7-31f8-4550-bb51-fc785a3c71a8",
   "metadata": {},
   "outputs": [
    {
     "data": {
      "text/plain": [
       "array([0.01031939, 0.00111722, 0.00070511], dtype=float32)"
      ]
     },
     "execution_count": 430,
     "metadata": {},
     "output_type": "execute_result"
    }
   ],
   "source": [
    "r=test(net,testDs)\n",
    "r\n",
    "\n",
    "# This are the MSE Errors of the the parameters"
   ]
  },
  {
   "cell_type": "markdown",
   "id": "4a98fe22-5522-4566-a825-d9888f327c8f",
   "metadata": {},
   "source": [
    "## Simple NonLinear Regression"
   ]
  },
  {
   "cell_type": "code",
   "execution_count": 399,
   "id": "cc1da065-c5d6-4fe0-a984-c1577867edd8",
   "metadata": {},
   "outputs": [],
   "source": [
    "def NonLinearRegressor(f,y,x0=None):\n",
    "    if x0 is None:\n",
    "        x=torch.zeros(y.shape[0],3,*y.shape[2:],requires_grad=True,device=y.device)\n",
    "    else:\n",
    "        x=x0.detach().clone().to(device=y.device).requires_grad_(True)\n",
    "    optim=torch.optim.LBFGS((x,),max_iter=200,history_size=20,line_search_fn=\"strong_wolfe\")\n",
    "\n",
    "    def loss():\n",
    "        optim.zero_grad()\n",
    "        l=torch.nn.functional.mse_loss(f(x),y)\n",
    "        l.backward()\n",
    "        return l\n",
    "    optim.step(loss)\n",
    "\n",
    "    return x.detach()"
   ]
  },
  {
   "cell_type": "code",
   "execution_count": 431,
   "id": "c87f8359-e3b2-4ff5-adf6-920d974aaa50",
   "metadata": {},
   "outputs": [
    {
     "data": {
      "text/plain": [
       "array([0.01365111, 0.001347  , 0.00049624], dtype=float32)"
      ]
     },
     "execution_count": 431,
     "metadata": {},
     "output_type": "execute_result"
    }
   ],
   "source": [
    "regressor=lambda y: NonLinearRegressor(f,y)\n",
    "test(regressor,testDs)"
   ]
  },
  {
   "cell_type": "markdown",
   "id": "f5534a30-4d67-41b1-88b1-5daf6231b45b",
   "metadata": {},
   "source": [
    "## Using The Network output as starting point"
   ]
  },
  {
   "cell_type": "code",
   "execution_count": 432,
   "id": "f244e724-0fc5-4b38-9e0d-2a87d336a92f",
   "metadata": {},
   "outputs": [
    {
     "data": {
      "text/plain": [
       "array([0.01394847, 0.00104001, 0.00039014], dtype=float32)"
      ]
     },
     "execution_count": 432,
     "metadata": {},
     "output_type": "execute_result"
    }
   ],
   "source": [
    "regressorwithx0=lambda y:NonLinearRegressor(f,y,x0=net(y))\n",
    "test(regressorwithx0,testDs)"
   ]
  },
  {
   "cell_type": "markdown",
   "id": "6353afe9-3cbd-4272-9332-7908f671c119",
   "metadata": {},
   "source": [
    "## Using the Network as Regularizer"
   ]
  },
  {
   "cell_type": "code",
   "execution_count": 402,
   "id": "edd89eaa-f6ca-49ed-83c8-3d81f27d2182",
   "metadata": {},
   "outputs": [],
   "source": [
    "def RegularizedNonLinearRegressor(f,y,net,strength):\n",
    "    xreg=net(y).detach().clone()\n",
    "    x=xreg.detach().clone().to(device=y.device).requires_grad_(True)\n",
    "    optim=torch.optim.LBFGS((x,),max_iter=200,history_size=20,line_search_fn=\"strong_wolfe\")\n",
    "\n",
    "    def loss():\n",
    "        optim.zero_grad()\n",
    "        l=torch.nn.functional.mse_loss(f(x),y)+strength*torch.nn.functional.mse_loss(x,xreg)\n",
    "        l.backward()\n",
    "        return l\n",
    "    optim.step(loss)\n",
    "\n",
    "    return x.detach()"
   ]
  },
  {
   "cell_type": "code",
   "execution_count": 433,
   "id": "a999aeb1-9c1f-4c5f-aa3c-6209a13aac85",
   "metadata": {},
   "outputs": [
    {
     "data": {
      "text/plain": [
       "array([0.01221109, 0.00084211, 0.00032594], dtype=float32)"
      ]
     },
     "execution_count": 433,
     "metadata": {},
     "output_type": "execute_result"
    }
   ],
   "source": [
    "test(lambda y: RegularizedNonLinearRegressor(f,y,net,0.1),testDs)"
   ]
  },
  {
   "cell_type": "markdown",
   "id": "4a1f1751-c85b-4e89-85af-f5c1d08ea8de",
   "metadata": {},
   "source": [
    "## Lets Summarize so far\n",
    "\n",
    "- Using the Neural Network as a Regularizer and as the Starting Point for a Regression improves the MSE Loss in all parameters compared to \n",
    "    - 'just a network' or \n",
    "    - 'just a regression'\n",
    "- But we had to choose the regularisation strength manually and we trained the network beforehand\n",
    "- Next Steps: End-to-End train the whole thing!"
   ]
  },
  {
   "cell_type": "markdown",
   "id": "aa20511f-5f47-4846-ac96-1ab7c5d748e4",
   "metadata": {},
   "source": [
    "## Differentiable Non Linear Optimisation\n",
    "\n",
    "Goal: \n",
    "Do the same as in the last step, i.e. use the CNN to predict a regularisation for the regression. But Optimize the network weights, such that the final result after the regression is best. Also, we want to learn the regularisation strength."
   ]
  },
  {
   "cell_type": "markdown",
   "id": "feb889db-7d5a-4f9c-a9f5-bd3267158560",
   "metadata": {
    "jp-MarkdownHeadingCollapsed": true,
    "tags": []
   },
   "source": [
    "### Helper Functions"
   ]
  },
  {
   "cell_type": "code",
   "execution_count": 435,
   "id": "1397f835-d67b-482b-b659-391bf99a06ef",
   "metadata": {},
   "outputs": [],
   "source": [
    "# Just a simple CG Solver to solve Problems like Ax=b with A spd for x\n",
    "\n",
    "def norm(x: Tensor, dims: Optional[List[int]] = None):\n",
    "    # ||x||_2^2\n",
    "    x = torch.abs((x * x.conj()))\n",
    "    if dims is None:\n",
    "        return x.sum()\n",
    "    else:\n",
    "        return x.sum(dims, keepdim=True)\n",
    "\n",
    "def cg(A: Callable, b: Tensor, x0: Optional[Tensor] = None, tol: float = 1e-8, maxiter=50, dims=(-1,-2,)):\n",
    "    # conjugate gradient solver for linear problem\n",
    "    x = b.clone().detach() if x0 is None else x0.clone()\n",
    "    r = b - A(x)\n",
    "    p = r\n",
    "    rsold = norm(r, dims)\n",
    "    if torch.max(rsold) < (tol or 1e-12):\n",
    "        return x\n",
    "    for i in range(maxiter):  # max iterations\n",
    "        Ap = A(p)\n",
    "        alpha = rsold * 1 / ((p.conj() * Ap).sum(dims, keepdims=True))\n",
    "        alpha[torch.isnan(alpha)] = 0\n",
    "        x.addcmul_(alpha, p)\n",
    "        r.addcmul_(alpha, Ap, value=-1)\n",
    "        rsnew = norm(r, dims)\n",
    "        if tol is not None:\n",
    "            if torch.max(rsnew) < tol:\n",
    "                break\n",
    "        beta = torch.nan_to_num_(rsnew / rsold) \n",
    "        p = r + beta * p\n",
    "        rsold = rsnew\n",
    "    x[torch.isnan(x)] = 0\n",
    "    return x"
   ]
  },
  {
   "cell_type": "markdown",
   "id": "64ea7a37-31fd-4764-b65e-6a782bbcb575",
   "metadata": {},
   "source": [
    "### Differentiabe Non-Linear-Regression Layer\n",
    "\n",
    "\n",
    "\n",
    "We can solve the Regression Problem with BFGS (or any other solver)\n",
    "\n",
    "To use it in an end-to-end training, we need to propagate the gradients from the optimal point found be the regression (xprime) to the parameters.\n",
    "In our example, we only care about propagating to\n",
    "- lambda --> We want to learn the optimal lambda by SGD\n",
    "- xreg --> This is the CNN output and we want to optimize the Network weights with SGD\n",
    "\n",
    "but in my paper, for example, I also need to propagate the gradient to y, as this is the result of solving another subproblem (with a CNN) . So the Layer should do that as well.\n",
    "\n",
    "\n",
    "The layer uses pytorch autograd functionality to\n",
    "    - apply the Hessian to a vector\n",
    "    - find the derivative of the gradient wrt to the parameters we want to propagate to.\n",
    "This way, we never have to manually think about the gradient (or hessian) of our signal function"
   ]
  },
  {
   "cell_type": "code",
   "execution_count": 526,
   "id": "e94e89da-d666-44d1-a260-4172336e978e",
   "metadata": {},
   "outputs": [],
   "source": [
    "class BFGS(torch.autograd.Function):\n",
    "    \"\"\"\n",
    "    Wrapper around optim.bfgs to make it differentiable\n",
    "    \n",
    "    Solves argmin_x ||f(x)-y ||^2 + l*||x-xreg||^2 with BFGS in the forward pass\n",
    "    and calculates the gradients wrt y, l and xreg in the backward pass\n",
    "    \"\"\"\n",
    "\n",
    "    @staticmethod\n",
    "    def forward(ctx, f: Callable, y: Tensor, xreg: Tensor, l: Tensor):\n",
    "        \"\"\"\n",
    "        BFGS\n",
    "        \"\"\"\n",
    "        ctx.f = f\n",
    "\n",
    "        x = xreg.detach().clone().requires_grad_(True) # Use xreg as initial point for regresison\n",
    "        xreg = xreg.detach()\n",
    "        y = y.detach()\n",
    "        lscalar = l.item()\n",
    "        \n",
    "        # Solve the inner Problem, this could be any solver!\n",
    "        optim = torch.optim.LBFGS([x], history_size=10, max_iter=200, tolerance_change=1e-15, tolerance_grad=1e-15, lr=1.0, line_search_fn=\"strong_wolfe\")  # *x.flatten(0,-2)\n",
    "        def closure():\n",
    "            x.grad = None\n",
    "            fx = f(x)\n",
    "            a = torch.nn.functional.mse_loss(fx, y, reduction=\"sum\") # Data Consistency\n",
    "            b = lscalar * torch.nn.functional.mse_loss(x, xreg, reduction=\"sum\") #Regularisation \n",
    "            output = a + b\n",
    "            output.backward()\n",
    "            return output\n",
    "        optim.step(closure)\n",
    "        \n",
    "        x.grad = None\n",
    "        ctx.save_for_backward(x, y, xreg, l)\n",
    "        return torch.clip(torch.nan_to_num(x), -1e6, 1e6)\n",
    "\n",
    "    @staticmethod\n",
    "    def backward(ctx, grad):\n",
    "\n",
    "        xprime, y, xreg, l = ctx.saved_tensors\n",
    "        xprime = xprime.detach().clone().requires_grad_(True)\n",
    "        params = (y, xreg, l)\n",
    "\n",
    "        # Only wrt Parameters that need a gradient will later on be differentiated and need to have requires_grad_(True)\n",
    "        params = [p.detach().clone().requires_grad_(True) if ctx.needs_input_grad[i + 1] else p.detach() for i, p in enumerate(params)]\n",
    "        dparams = [p for p in params if p.requires_grad]  # Parameters that need a gradient\n",
    "\n",
    "        # Repeat the Objetive function used in the forward pass\n",
    "        f = ctx.f\n",
    "        (y, xreg, l) = params\n",
    "        # Here the objective functoin should be the same as in the forward!!\n",
    "        objective = lambda x: torch.nn.functional.mse_loss(f(x), y, reduction=\"sum\") + l * torch.nn.functional.mse_loss(x, xreg, reduction=\"sum\")\n",
    "\n",
    "        A = lambda v: torch.autograd.functional.vhp(objective, xprime, v=v)[1]  # Hessian Operator\n",
    "        iHv = cg(A, grad, maxiter=100, tol=1e-15, dims=tuple(range(-1, -xreg.ndim - 1, -1)))  # Solve H*iHv=grad\n",
    "\n",
    "        with torch.enable_grad():  # Mixed Gradients for backward equation\n",
    "            gt = torch.autograd.grad(objective(xprime), xprime, create_graph=True)[0]\n",
    "            ggt = list(torch.autograd.grad(gt, dparams, -iHv))\n",
    "\n",
    "        # We got everything, we just have to assumble our output and fill in None's where we did not calculate a gradient\n",
    "        grad_output = [None]  # no gradient for f\n",
    "        for need_grad in ctx.needs_input_grad[1:4]:\n",
    "            if need_grad:\n",
    "                w = ggt.pop(0)\n",
    "                w = torch.clip(torch.nan_to_num(w), -1e6, 1e6)\n",
    "                grad_output.append(w)\n",
    "            else:\n",
    "                grad_output.append(None)\n",
    "\n",
    "        return tuple(grad_output)"
   ]
  },
  {
   "cell_type": "code",
   "execution_count": 540,
   "id": "14a7d28a-545b-4f68-be95-6f76fef9a92a",
   "metadata": {},
   "outputs": [],
   "source": [
    "class E2ENetwork(nn.Module):\n",
    "    def __init__(self, f, net=None):\n",
    "        super().__init__()\n",
    "        if net is None:\n",
    "            self.net = nn.Sequential(\n",
    "                nn.Conv2d(5, 128, 3, padding=\"same\"),\n",
    "                nn.ReLU(True),\n",
    "                nn.Conv2d(128, 128, 3, padding=\"same\"),\n",
    "                nn.ReLU(True),\n",
    "                nn.Conv2d(128, 128, 3, padding=\"same\"),\n",
    "                nn.ReLU(True),\n",
    "                nn.Conv2d(128, 3, 1, padding=\"same\"),\n",
    "            )\n",
    "        else:\n",
    "            self.net = copy.deepcopy(net)\n",
    "\n",
    "        self.lambdaRaw = nn.Parameter(torch.tensor(1.0))\n",
    "        self.softplus = nn.Softplus(beta=5)\n",
    "        self.f = f\n",
    "\n",
    "    @property\n",
    "    def lam(self):\n",
    "        \"\"\"Enforce positivity by softplus on lambda\"\"\"\n",
    "        return self.softplus(self.lambdaRaw)\n",
    "\n",
    "    def forward(self, y):\n",
    "        xreg = net(y)\n",
    "        x = BFGS.apply(self.f, y, xreg, self.lam)\n",
    "        return x"
   ]
  },
  {
   "cell_type": "code",
   "execution_count": 542,
   "id": "8c169242-e7e9-4cd6-838c-b29b5fdc2c1b",
   "metadata": {},
   "outputs": [],
   "source": [
    "net2=E2ENetwork(f,net)"
   ]
  },
  {
   "cell_type": "code",
   "execution_count": 545,
   "id": "ab8dd8cf-a0d5-48ab-bec5-e45032601522",
   "metadata": {},
   "outputs": [
    {
     "data": {
      "application/vnd.jupyter.widget-view+json": {
       "model_id": "bf3bb9e06f3e4753a93544ee449dc702",
       "version_major": 2,
       "version_minor": 0
      },
      "text/plain": [
       "  0%|          | 0/1563 [00:00<?, ?it/s]"
      ]
     },
     "metadata": {},
     "output_type": "display_data"
    }
   ],
   "source": [
    "## Train the new end-to-end network\n",
    "optim = torch.optim.Adam((dict(params=net2.net.parameters(), lr=1e-4), dict(params=(net2.lambdaRaw,), lr=1e-2)))\n",
    "\n",
    "losses2 = []\n",
    "for epoch in range(1):\n",
    "    pbar = tqdm(dataloader)\n",
    "    for i, batch in enumerate(pbar):\n",
    "        (y_noise, x_gt) = (i.cuda() for i in batch)\n",
    "        optim.zero_grad()\n",
    "        x_pred = net2(y_noise)\n",
    "        loss = nn.functional.mse_loss(x_pred, x_gt)\n",
    "        loss.backward()\n",
    "        if i % 5 == 0:\n",
    "            pbar.set_description(f\" loss: {loss.item():.5f}   lambda: {net2.lam.item():.5f}\")\n",
    "            losses2.append(torch.nn.functional.mse_loss(x_gt, x_pred, reduction=\"none\").mean((0, -1, -2)).detach().cpu().numpy())\n",
    "        optim.step()"
   ]
  },
  {
   "cell_type": "code",
   "execution_count": 547,
   "id": "18cfdb4c-04a7-411d-a6b9-eb760349e618",
   "metadata": {},
   "outputs": [
    {
     "data": {
      "text/plain": [
       "array([0.0095421 , 0.00054289, 0.0002289 ], dtype=float32)"
      ]
     },
     "execution_count": 547,
     "metadata": {},
     "output_type": "execute_result"
    }
   ],
   "source": [
    "test(net2,testDs)"
   ]
  },
  {
   "cell_type": "markdown",
   "id": "c2095273-a3a1-4c48-a15d-0e0fb9a16d0a",
   "metadata": {},
   "source": [
    "## Results"
   ]
  },
  {
   "cell_type": "markdown",
   "id": "2065d242-3032-48bf-932c-6a7dd8ea2ad9",
   "metadata": {},
   "source": [
    "|Method     | MSE x1 |MSE x2  | MSE x3 |\n",
    "------------|--------|--------|--------|\n",
    "|Network    | 0.01031| 0.00111| 0.00070|\n",
    "|fit        | 0.01365| 0.00134| 0.00049|\n",
    "|Fit w. x0  | 0.01394| 0.00104| 0.00039|\n",
    "|Reg. fit   | 0.01221| 0.00084| 0.00032|\n",
    "|E2E Fit+Net| 0.00954| 0.00054| 0.00022|\n"
   ]
  },
  {
   "cell_type": "code",
   "execution_count": null,
   "id": "a40e2fe6-3187-4682-8e65-b3ecf7a9186e",
   "metadata": {},
   "outputs": [],
   "source": []
  }
 ],
 "metadata": {
  "kernelspec": {
   "display_name": "ml",
   "language": "python",
   "name": "ml"
  },
  "language_info": {
   "codemirror_mode": {
    "name": "ipython",
    "version": 3
   },
   "file_extension": ".py",
   "mimetype": "text/x-python",
   "name": "python",
   "nbconvert_exporter": "python",
   "pygments_lexer": "ipython3",
   "version": "3.9.13"
  }
 },
 "nbformat": 4,
 "nbformat_minor": 5
}
